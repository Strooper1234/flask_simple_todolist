{
 "cells": [
  {
   "cell_type": "code",
   "execution_count": 1,
   "id": "a9cd4a53-8899-474b-813e-1c17f5b4f2b0",
   "metadata": {},
   "outputs": [],
   "source": [
    "import requests\n",
    "import json"
   ]
  },
  {
   "cell_type": "code",
   "execution_count": 2,
   "id": "c6897efa-c4d9-4296-8a7e-234570cc88d0",
   "metadata": {},
   "outputs": [],
   "source": [
    "base_url = \"http://127.0.0.1:5000\""
   ]
  },
  {
   "cell_type": "code",
   "execution_count": 65,
   "id": "41f6dc97-17a7-4afb-92cc-cb619bf27343",
   "metadata": {},
   "outputs": [
    {
     "data": {
      "text/plain": [
       "<Response [200]>"
      ]
     },
     "execution_count": 65,
     "metadata": {},
     "output_type": "execute_result"
    }
   ],
   "source": [
    "response = requests.get(base_url)\n",
    "response"
   ]
  },
  {
   "cell_type": "code",
   "execution_count": 66,
   "id": "58f77aa2-6982-4d3d-ad43-22e165a55581",
   "metadata": {},
   "outputs": [
    {
     "data": {
      "text/plain": [
       "'<h1>This is Home</h1>'"
      ]
     },
     "execution_count": 66,
     "metadata": {},
     "output_type": "execute_result"
    }
   ],
   "source": [
    "response.text"
   ]
  },
  {
   "cell_type": "code",
   "execution_count": 85,
   "id": "bf447b7d-6fa0-46b7-a9b3-7a6f120816ab",
   "metadata": {},
   "outputs": [
    {
     "data": {
      "text/plain": [
       "<Response [200]>"
      ]
     },
     "execution_count": 85,
     "metadata": {},
     "output_type": "execute_result"
    }
   ],
   "source": [
    "response = requests.get(base_url + \"/todolist\")\n",
    "response"
   ]
  },
  {
   "cell_type": "code",
   "execution_count": 86,
   "id": "e0917656-5644-40a5-b31c-94669df5d9c6",
   "metadata": {},
   "outputs": [
    {
     "data": {
      "text/plain": [
       "[{'Due': 'july 30', 'Title': 'Finish To do List'},\n",
       " {'Due': 'july 30', 'Title': 'Answer question'},\n",
       " {'Due': 'Aug 5', 'Title': 'another task'},\n",
       " {'Due': 'Aug 8', 'Title': 'a post task 2'},\n",
       " {'Due': 'Aug 8', 'Title': 'a post task 3'},\n",
       " {'Due': 'Aug 8', 'Title': 'a post task 3'},\n",
       " {'Due': 'Aug 8', 'Title': 'a post task 3'},\n",
       " {'Due': 'Aug 8', 'Title': 'a post task 4'},\n",
       " {'Due': 'Aug 8', 'Title': 'a post task 4'},\n",
       " {'Due': 'Aug 10', 'Title': 'a post task 5'}]"
      ]
     },
     "execution_count": 86,
     "metadata": {},
     "output_type": "execute_result"
    }
   ],
   "source": [
    "response.json()"
   ]
  },
  {
   "cell_type": "code",
   "execution_count": 84,
   "id": "fd426cef-299e-43b0-9c3f-515d8d4b1d42",
   "metadata": {},
   "outputs": [
    {
     "data": {
      "text/plain": [
       "<Response [200]>"
      ]
     },
     "execution_count": 84,
     "metadata": {},
     "output_type": "execute_result"
    }
   ],
   "source": [
    "payload = {\n",
    "    \"Title\": \"a post task 5\",\n",
    "    \"Due\": \"Aug 10\"\n",
    "}\n",
    "\n",
    "response = requests.post(base_url + \"/todolist/add\", json=payload)\n",
    "response"
   ]
  },
  {
   "cell_type": "code",
   "execution_count": 76,
   "id": "ed765b27-a2ce-47cf-9a81-6158285cb9c9",
   "metadata": {},
   "outputs": [
    {
     "data": {
      "text/plain": [
       "{'Due': 'Aug 8', 'Title': 'a post task 3'}"
      ]
     },
     "execution_count": 76,
     "metadata": {},
     "output_type": "execute_result"
    }
   ],
   "source": [
    "response.json()"
   ]
  },
  {
   "cell_type": "code",
   "execution_count": 32,
   "id": "1336c42e-0ecc-4053-b933-de89bc5d1e15",
   "metadata": {},
   "outputs": [
    {
     "data": {
      "text/plain": [
       "{'Server': 'Werkzeug/2.2.1 Python/3.10.5', 'Date': 'Sat, 30 Jul 2022 16:58:39 GMT', 'Content-Type': 'application/json', 'Content-Length': '48', 'Connection': 'close'}"
      ]
     },
     "execution_count": 32,
     "metadata": {},
     "output_type": "execute_result"
    }
   ],
   "source": [
    "response.headers"
   ]
  },
  {
   "cell_type": "code",
   "execution_count": null,
   "id": "bb34a36d-240d-4c89-8ddc-f4edda114205",
   "metadata": {},
   "outputs": [],
   "source": []
  }
 ],
 "metadata": {
  "kernelspec": {
   "display_name": "Python 3 (ipykernel)",
   "language": "python",
   "name": "python3"
  },
  "language_info": {
   "codemirror_mode": {
    "name": "ipython",
    "version": 3
   },
   "file_extension": ".py",
   "mimetype": "text/x-python",
   "name": "python",
   "nbconvert_exporter": "python",
   "pygments_lexer": "ipython3",
   "version": "3.9.6"
  }
 },
 "nbformat": 4,
 "nbformat_minor": 5
}
